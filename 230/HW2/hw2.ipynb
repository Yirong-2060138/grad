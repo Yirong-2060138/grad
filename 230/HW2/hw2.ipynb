{
 "cells": [
  {
   "cell_type": "markdown",
   "metadata": {},
   "source": [
    "# Problem 6\n",
    "    {R}\n",
    "    install.packages(\"faraway\")\n",
    "    library(faraway)\n",
    "    data(teengamb)\n",
    "    write.csv(teengamb, \"C:/Users/dkkdk/Documents/grad/230/HW2/teengamb.csv\", row.names=FALSE)\n",
    "## Part a"
   ]
  },
  {
   "cell_type": "code",
   "execution_count": 32,
   "metadata": {},
   "outputs": [
    {
     "name": "stdout",
     "output_type": "stream",
     "text": [
      "   sex  status  income  verbal  gamble\n",
      "0    1      51     2.0       8     0.0\n",
      "1    1      28     2.5       8     0.0\n",
      "2    1      37     2.0       6     0.0\n",
      "3    1      28     7.0       4     7.3\n",
      "4    1      65     2.0       8    19.6\n"
     ]
    }
   ],
   "source": [
    "import pandas as pd\n",
    "df = pd.read_csv('teengamb.csv')\n",
    "print(df.head())\n"
   ]
  },
  {
   "cell_type": "code",
   "execution_count": 33,
   "metadata": {},
   "outputs": [
    {
     "name": "stdout",
     "output_type": "stream",
     "text": [
      "                            OLS Regression Results                            \n",
      "==============================================================================\n",
      "Dep. Variable:                 gamble   R-squared:                       0.527\n",
      "Model:                            OLS   Adj. R-squared:                  0.482\n",
      "Method:                 Least Squares   F-statistic:                     11.69\n",
      "Date:                Sat, 15 Feb 2025   Prob (F-statistic):           1.81e-06\n",
      "Time:                        16:25:24   Log-Likelihood:                -210.78\n",
      "No. Observations:                  47   AIC:                             431.6\n",
      "Df Residuals:                      42   BIC:                             440.8\n",
      "Df Model:                           4                                         \n",
      "Covariance Type:            nonrobust                                         \n",
      "==============================================================================\n",
      "                 coef    std err          t      P>|t|      [0.025      0.975]\n",
      "------------------------------------------------------------------------------\n",
      "Intercept     22.5557     17.197      1.312      0.197     -12.149      57.260\n",
      "sex          -22.1183      8.211     -2.694      0.010     -38.689      -5.548\n",
      "status         0.0522      0.281      0.186      0.853      -0.515       0.620\n",
      "income         4.9620      1.025      4.839      0.000       2.893       7.031\n",
      "verbal        -2.9595      2.172     -1.362      0.180      -7.343       1.424\n",
      "==============================================================================\n",
      "Omnibus:                       31.143   Durbin-Watson:                   2.214\n",
      "Prob(Omnibus):                  0.000   Jarque-Bera (JB):              101.046\n",
      "Skew:                           1.604   Prob(JB):                     1.14e-22\n",
      "Kurtosis:                       9.427   Cond. No.                         264.\n",
      "==============================================================================\n",
      "\n",
      "Notes:\n",
      "[1] Standard Errors assume that the covariance matrix of the errors is correctly specified.\n"
     ]
    }
   ],
   "source": [
    "import statsmodels.api as sm\n",
    "import statsmodels.formula.api as smf\n",
    "model = smf.ols(formula=\"gamble ~ sex + status + income + verbal\", data=df).fit()\n",
    "print(model.summary())"
   ]
  },
  {
   "cell_type": "markdown",
   "metadata": {},
   "source": [
    "## Part b"
   ]
  },
  {
   "cell_type": "code",
   "execution_count": 34,
   "metadata": {},
   "outputs": [
    {
     "name": "stdout",
     "output_type": "stream",
     "text": [
      "R-squared: 0.5267\n",
      "Adjusted R-squared: 0.4816\n"
     ]
    }
   ],
   "source": [
    "r_squared = model.rsquared\n",
    "print(f\"R-squared: {r_squared:.4f}\")\n",
    "adj_r_squared = model.rsquared_adj\n",
    "print(f\"Adjusted R-squared: {adj_r_squared:.4f}\")"
   ]
  },
  {
   "cell_type": "markdown",
   "metadata": {},
   "source": [
    "## Part c"
   ]
  },
  {
   "cell_type": "code",
   "execution_count": 35,
   "metadata": {},
   "outputs": [
    {
     "name": "stdout",
     "output_type": "stream",
     "text": [
      "max residual: 94.2522\n"
     ]
    }
   ],
   "source": [
    "# compute residuals\n",
    "df[\"residuals\"] = model.resid\n",
    "# find max residual\n",
    "max_residual_idx = df[\"residuals\"].idxmax()\n",
    "max_residual_value = df.loc[max_residual_idx, \"residuals\"]\n",
    "print(f\"max residual: {max_residual_value:.4f}\")\n"
   ]
  },
  {
   "cell_type": "markdown",
   "metadata": {},
   "source": [
    "## Part d"
   ]
  },
  {
   "cell_type": "code",
   "execution_count": 36,
   "metadata": {},
   "outputs": [
    {
     "name": "stdout",
     "output_type": "stream",
     "text": [
      "mean of residuals: 0.0000\n",
      "median of residuals: -1.4514\n"
     ]
    }
   ],
   "source": [
    "residual_mean = df[\"residuals\"].mean()\n",
    "residual_median = df[\"residuals\"].median()\n",
    "print(f\"mean of residuals: {residual_mean:.4f}\")\n",
    "print(f\"median of residuals: {residual_median:.4f}\")\n"
   ]
  },
  {
   "cell_type": "markdown",
   "metadata": {},
   "source": [
    "## Part e"
   ]
  },
  {
   "cell_type": "code",
   "execution_count": 37,
   "metadata": {},
   "outputs": [
    {
     "name": "stdout",
     "output_type": "stream",
     "text": [
      "Correlation between residuals and fitted values: 0.0000\n"
     ]
    }
   ],
   "source": [
    "import numpy as np\n",
    "cor_residuals_fitted = np.corrcoef(df[\"residuals\"], model.fittedvalues)[0, 1]\n",
    "print(f\"Correlation between residuals and fitted values: {cor_residuals_fitted:.4f}\")"
   ]
  },
  {
   "cell_type": "markdown",
   "metadata": {},
   "source": [
    "## Part f"
   ]
  },
  {
   "cell_type": "code",
   "execution_count": 38,
   "metadata": {},
   "outputs": [
    {
     "name": "stdout",
     "output_type": "stream",
     "text": [
      "Correlation between residuals and income: 0.0000\n"
     ]
    }
   ],
   "source": [
    "cor_residuals_income = np.corrcoef(df[\"residuals\"], df[\"income\"])[0, 1]\n",
    "print(f\"Correlation between residuals and income: {cor_residuals_income:.4f}\")"
   ]
  },
  {
   "cell_type": "markdown",
   "metadata": {},
   "source": [
    "## Part g"
   ]
  },
  {
   "cell_type": "code",
   "execution_count": 39,
   "metadata": {},
   "outputs": [
    {
     "name": "stdout",
     "output_type": "stream",
     "text": [
      "Predicted gambling expenditure: 51.5451\n",
      "95% Confidence Interval: (29.4109, 73.6792)\n",
      "95% Prediction Interval: (0.6851, 102.4050)\n"
     ]
    }
   ],
   "source": [
    "# Define new observation\n",
    "new_data = pd.DataFrame({\n",
    "    \"sex\": [0],\n",
    "    \"status\": [60],\n",
    "    \"income\": [7], \n",
    "    \"verbal\": [3]\n",
    "})\n",
    "\n",
    "# Get prediction results\n",
    "pred_results = model.get_prediction(new_data)\n",
    "# Extract confidence interval and prediction interval\n",
    "pred_summary = pred_results.summary_frame(alpha=0.05)\n",
    "# Print results\n",
    "print(f\"Predicted gambling expenditure: {pred_summary['mean'][0]:.4f}\")\n",
    "print(f\"95% Confidence Interval: ({pred_summary['mean_ci_lower'][0]:.4f}, {pred_summary['mean_ci_upper'][0]:.4f})\")\n",
    "print(f\"95% Prediction Interval: ({pred_summary['obs_ci_lower'][0]:.4f}, {pred_summary['obs_ci_upper'][0]:.4f})\")\n"
   ]
  },
  {
   "cell_type": "markdown",
   "metadata": {},
   "source": [
    "## Part h"
   ]
  },
  {
   "cell_type": "code",
   "execution_count": 40,
   "metadata": {},
   "outputs": [
    {
     "name": "stdout",
     "output_type": "stream",
     "text": [
      "Difference in predicted gambling expenditure (Male - Female): -22.1183\n"
     ]
    }
   ],
   "source": [
    "sex_coefficient = model.params[\"sex\"]\n",
    "print(f\"Difference in predicted gambling expenditure (Male - Female): {sex_coefficient:.4f}\")"
   ]
  },
  {
   "cell_type": "markdown",
   "metadata": {},
   "source": [
    "- This means that, holding all other predictors constant, a male is predicted to spend 10.31 pounds less on gambling compared to a female.\n",
    "- A negative coefficient suggests that males tend to gamble less than females"
   ]
  }
 ],
 "metadata": {
  "kernelspec": {
   "display_name": "Python 3",
   "language": "python",
   "name": "python3"
  },
  "language_info": {
   "codemirror_mode": {
    "name": "ipython",
    "version": 3
   },
   "file_extension": ".py",
   "mimetype": "text/x-python",
   "name": "python",
   "nbconvert_exporter": "python",
   "pygments_lexer": "ipython3",
   "version": "3.10.11"
  }
 },
 "nbformat": 4,
 "nbformat_minor": 2
}
