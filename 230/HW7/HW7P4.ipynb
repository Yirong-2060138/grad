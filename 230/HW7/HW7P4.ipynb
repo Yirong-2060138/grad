{
 "cells": [
  {
   "cell_type": "markdown",
   "id": "9f39a757",
   "metadata": {},
   "source": [
    "# Question 4\n",
    "\n",
    "## (a)"
   ]
  },
  {
   "cell_type": "code",
   "execution_count": 10,
   "id": "50ce3f73",
   "metadata": {},
   "outputs": [
    {
     "name": "stdout",
     "output_type": "stream",
     "text": [
      "Optimization terminated successfully.\n",
      "         Current function value: 0.259201\n",
      "         Iterations 8\n",
      "                           Logit Regression Results                           \n",
      "==============================================================================\n",
      "Dep. Variable:               restrict   No. Observations:                 4362\n",
      "Model:                          Logit   Df Residuals:                     4342\n",
      "Method:                           MLE   Df Model:                           19\n",
      "Date:                Sun, 04 May 2025   Pseudo R-squ.:                  0.6240\n",
      "Time:                        15:12:24   Log-Likelihood:                -1130.6\n",
      "converged:                       True   LL-Null:                       -3006.8\n",
      "Covariance Type:            nonrobust   LLR p-value:                     0.000\n",
      "==============================================================================\n",
      "                 coef    std err          z      P>|z|      [0.025      0.975]\n",
      "------------------------------------------------------------------------------\n",
      "Intercept      0.2730      0.601      0.454      0.650      -0.905       1.451\n",
      "art8          -1.6956      0.162    -10.458      0.000      -2.013      -1.378\n",
      "shift_left     0.6228      0.247      2.521      0.012       0.139       1.107\n",
      "flexible      -0.5891      0.147     -4.021      0.000      -0.876      -0.302\n",
      "regnorm        0.0046      0.002      1.945      0.052   -3.58e-05       0.009\n",
      "gdpgrow       -0.0101      0.005     -1.854      0.064      -0.021       0.001\n",
      "resgdp        -0.4410      0.395     -1.117      0.264      -1.215       0.333\n",
      "bopgdp        -0.0032      0.005     -0.591      0.554      -0.014       0.007\n",
      "useimfcr       0.9478      0.128      7.393      0.000       0.697       1.199\n",
      "surveil        0.4333      0.158      2.735      0.006       0.123       0.744\n",
      "univers        0.0362      0.006      5.691      0.000       0.024       0.049\n",
      "resvol         0.1399      0.110      1.268      0.205      -0.076       0.356\n",
      "totvol         0.3662      0.097      3.788      0.000       0.177       0.556\n",
      "tradedep      -0.0063      0.001     -4.719      0.000      -0.009      -0.004\n",
      "military      -0.3204      0.140     -2.288      0.022      -0.595      -0.046\n",
      "termlim        0.0484      0.149      0.325      0.745      -0.243       0.340\n",
      "parli         -0.0765      0.153     -0.501      0.617      -0.376       0.223\n",
      "lastrest      -1.6723      0.075    -22.406      0.000      -1.819      -1.526\n",
      "lastrest2      0.1345      0.009     15.066      0.000       0.117       0.152\n",
      "lastrest3     -0.0030      0.000    -11.174      0.000      -0.004      -0.003\n",
      "==============================================================================\n",
      "\n",
      "Odds ratio for art8: 0.183\n"
     ]
    }
   ],
   "source": [
    "import pandas as pd\n",
    "import statsmodels.api as sm\n",
    "import statsmodels.formula.api as smf\n",
    "\n",
    "df = pd.read_csv(\"treaty.csv\")\n",
    "\n",
    "covariates = [\n",
    "    \"shift_left\", \"flexible\", \"regnorm\", \"gdpgrow\", \"resgdp\", \"bopgdp\",\n",
    "    \"useimfcr\", \"surveil\", \"univers\", \"resvol\", \"totvol\", \"tradedep\",\n",
    "    \"military\", \"termlim\", \"parli\", \"lastrest\", \"lastrest2\", \"lastrest3\"\n",
    "]\n",
    "\n",
    "formula = \"restrict ~ art8 + \" + \" + \".join(covariates)\n",
    "model = smf.logit(formula=formula, data=df)\n",
    "result = model.fit()\n",
    "\n",
    "print(result.summary())\n",
    "\n",
    "import numpy as np\n",
    "odds_ratio = np.exp(result.params['art8'])\n",
    "print(f\"\\nOdds ratio for art8: {odds_ratio:.3f}\")\n"
   ]
  },
  {
   "cell_type": "markdown",
   "id": "6ebf23ea",
   "metadata": {},
   "source": [
    "The logistic regression shows a negative and statistically significant coefficient for art8, with an odds ratio less than 1. This suggests that, after adjusting for other covariates, countries that signed Article VIII were less likely to impose foreign exchange restrictions. While the result indicates a strong association, causal interpretation should be made with caution due to the observational nature of the data.\n",
    "\n",
    "## (b)"
   ]
  },
  {
   "cell_type": "code",
   "execution_count": 11,
   "id": "4fb8c63b",
   "metadata": {},
   "outputs": [
    {
     "name": "stdout",
     "output_type": "stream",
     "text": [
      "                           Logit Regression Results                           \n",
      "==============================================================================\n",
      "Dep. Variable:               restrict   No. Observations:                 4362\n",
      "Model:                          Logit   Df Residuals:                     4342\n",
      "Method:                           MLE   Df Model:                           19\n",
      "Date:                Sun, 04 May 2025   Pseudo R-squ.:                  0.6240\n",
      "Time:                        15:12:25   Log-Likelihood:                -1130.6\n",
      "converged:                       True   LL-Null:                       -3006.8\n",
      "Covariance Type:              cluster   LLR p-value:                     0.000\n",
      "==============================================================================\n",
      "                 coef    std err          z      P>|z|      [0.025      0.975]\n",
      "------------------------------------------------------------------------------\n",
      "Intercept      0.2730      0.834      0.328      0.743      -1.361       1.907\n",
      "art8          -1.6956      0.248     -6.841      0.000      -2.181      -1.210\n",
      "shift_left     0.6228      0.218      2.860      0.004       0.196       1.050\n",
      "flexible      -0.5891      0.185     -3.189      0.001      -0.951      -0.227\n",
      "regnorm        0.0046      0.004      1.249      0.212      -0.003       0.012\n",
      "gdpgrow       -0.0101      0.006     -1.685      0.092      -0.022       0.002\n",
      "resgdp        -0.4410      0.737     -0.599      0.549      -1.885       1.003\n",
      "bopgdp        -0.0032      0.005     -0.621      0.535      -0.013       0.007\n",
      "useimfcr       0.9478      0.168      5.629      0.000       0.618       1.278\n",
      "surveil        0.4333      0.214      2.028      0.043       0.014       0.852\n",
      "univers        0.0362      0.010      3.793      0.000       0.018       0.055\n",
      "resvol         0.1399      0.160      0.872      0.383      -0.175       0.454\n",
      "totvol         0.3662      0.119      3.072      0.002       0.133       0.600\n",
      "tradedep      -0.0063      0.002     -3.590      0.000      -0.010      -0.003\n",
      "military      -0.3204      0.151     -2.115      0.034      -0.617      -0.023\n",
      "termlim        0.0484      0.181      0.267      0.790      -0.307       0.404\n",
      "parli         -0.0765      0.166     -0.462      0.644      -0.401       0.248\n",
      "lastrest      -1.6723      0.104    -16.057      0.000      -1.876      -1.468\n",
      "lastrest2      0.1345      0.016      8.316      0.000       0.103       0.166\n",
      "lastrest3     -0.0030      0.001     -5.413      0.000      -0.004      -0.002\n",
      "==============================================================================\n",
      "\n",
      "Clustered odds ratio for art8: 0.183\n"
     ]
    }
   ],
   "source": [
    "import pandas as pd\n",
    "import statsmodels.api as sm\n",
    "import statsmodels.formula.api as smf\n",
    "import numpy as np\n",
    "\n",
    "# 1. Load the data\n",
    "df = pd.read_csv(\"treaty.csv\")\n",
    "\n",
    "# 2. Drop any missing clusters (if any)\n",
    "df = df.dropna(subset=[\"imf_ccode\"])\n",
    "\n",
    "# 3. Define covariates\n",
    "covariates = [\n",
    "    \"shift_left\", \"flexible\", \"regnorm\", \"gdpgrow\", \"resgdp\", \"bopgdp\",\n",
    "    \"useimfcr\", \"surveil\", \"univers\", \"resvol\", \"totvol\", \"tradedep\",\n",
    "    \"military\", \"termlim\", \"parli\", \"lastrest\", \"lastrest2\", \"lastrest3\"\n",
    "]\n",
    "\n",
    "# 4. Construct formula\n",
    "formula = \"restrict ~ art8 + \" + \" + \".join(covariates)\n",
    "\n",
    "# 5. Fit logistic regression with clustered standard errors\n",
    "model = smf.logit(formula=formula, data=df)\n",
    "result = model.fit(\n",
    "    cov_type=\"cluster\",\n",
    "    cov_kwds={\"groups\": df[\"imf_ccode\"]},\n",
    "    disp=0\n",
    ")\n",
    "\n",
    "# 6. Show the results\n",
    "print(result.summary())\n",
    "\n",
    "# 7. Odds ratio for art8\n",
    "odds_ratio = np.exp(result.params['art8'])\n",
    "print(f\"\\nClustered odds ratio for art8: {odds_ratio:.3f}\")\n",
    "\n"
   ]
  },
  {
   "cell_type": "markdown",
   "id": "e23d0bd0",
   "metadata": {},
   "source": [
    "After refitting the logistic regression with clustered standard errors by country (imf_ccode), the coefficient for art8 remains negative and statistically significant. This suggests that the association between signing Article VIII and a lower likelihood of imposing foreign exchange restrictions is robust to within-country correlation. Our conclusion from part (a) remains unchanged.\n",
    "\n",
    "## (c)\n",
    "\n",
    "Using a ridge penalty may help reduce overfitting due to the large number of covariates relative to the number of observations per country. However, the primary goal here is to interpret the effect of art8, and ridge regression shrinks coefficients toward zero, making interpretation less straightforward. Since our logistic model yields a significant and stable estimate for art8 even with clustered standard errors, adding a ridge penalty is not necessary in this case."
   ]
  }
 ],
 "metadata": {
  "kernelspec": {
   "display_name": "Python 3",
   "language": "python",
   "name": "python3"
  },
  "language_info": {
   "codemirror_mode": {
    "name": "ipython",
    "version": 3
   },
   "file_extension": ".py",
   "mimetype": "text/x-python",
   "name": "python",
   "nbconvert_exporter": "python",
   "pygments_lexer": "ipython3",
   "version": "3.10.11"
  }
 },
 "nbformat": 4,
 "nbformat_minor": 5
}
