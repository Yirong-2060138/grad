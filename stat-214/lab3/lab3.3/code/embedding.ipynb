{
 "cells": [
  {
   "cell_type": "code",
   "execution_count": 1,
   "id": "13a1196b",
   "metadata": {},
   "outputs": [
    {
     "ename": "ImportError",
     "evalue": "cannot import name 'lanczosinterp2D' from 'preprocessing' (/jet/home/wli22/.local/lib/python3.12/site-packages/preprocessing/__init__.py)",
     "output_type": "error",
     "traceback": [
      "\u001b[0;31m---------------------------------------------------------------------------\u001b[0m",
      "\u001b[0;31mImportError\u001b[0m                               Traceback (most recent call last)",
      "Cell \u001b[0;32mIn[1], line 7\u001b[0m\n\u001b[1;32m      5\u001b[0m \u001b[38;5;28;01mfrom\u001b[39;00m \u001b[38;5;21;01mtqdm\u001b[39;00m \u001b[38;5;28;01mimport\u001b[39;00m tqdm\n\u001b[1;32m      6\u001b[0m \u001b[38;5;28;01mfrom\u001b[39;00m \u001b[38;5;21;01mtransformers\u001b[39;00m \u001b[38;5;28;01mimport\u001b[39;00m BertTokenizerFast, BertModel\n\u001b[0;32m----> 7\u001b[0m \u001b[38;5;28;01mfrom\u001b[39;00m \u001b[38;5;21;01mpreprocessing\u001b[39;00m \u001b[38;5;28;01mimport\u001b[39;00m lanczosinterp2D, make_delayed\n",
      "\u001b[0;31mImportError\u001b[0m: cannot import name 'lanczosinterp2D' from 'preprocessing' (/jet/home/wli22/.local/lib/python3.12/site-packages/preprocessing/__init__.py)"
     ]
    }
   ],
   "source": [
    "import os\n",
    "import pickle\n",
    "import numpy as np\n",
    "import torch\n",
    "from tqdm import tqdm\n",
    "from transformers import BertTokenizerFast, BertModel\n",
    "from preprocessing import lanczosinterp2D, make_delayed"
   ]
  },
  {
   "cell_type": "code",
   "execution_count": null,
   "id": "9bd9e96a",
   "metadata": {},
   "outputs": [],
   "source": [
    "raw_text_path = \"../../../shared/data/raw_text.pkl\"\n",
    "output_dir = \"../results/embeddings/bert_XY\"\n",
    "os.makedirs(output_dir, exist_ok=True)\n",
    "\n",
    "# Load tokenizer and model\n",
    "tokenizer = BertTokenizerFast.from_pretrained(\"bert-base-uncased\")\n",
    "model = BertModel.from_pretrained(\"bert-base-uncased\")\n",
    "model.eval()"
   ]
  },
  {
   "cell_type": "code",
   "execution_count": 3,
   "id": "719690fa",
   "metadata": {},
   "outputs": [],
   "source": [
    "# ## Embedding extraction function\n",
    "\n",
    "def extract_bert_embeddings(seq, model, tokenizer, chunk_size=128, stride=64, hidden_size=768):\n",
    "    device = next(model.parameters()).device\n",
    "    text_words = seq.data\n",
    "    total_words = len(text_words)\n",
    "    word_embeddings = [None] * total_words\n",
    "\n",
    "    for start in range(0, total_words, stride):\n",
    "        chunk_words = text_words[start:start + chunk_size]\n",
    "        tokens = tokenizer(\n",
    "            chunk_words,\n",
    "            is_split_into_words=True,\n",
    "            return_tensors=\"pt\",\n",
    "            padding=\"max_length\",\n",
    "            truncation=True,\n",
    "            max_length=chunk_size,\n",
    "            return_attention_mask=True,\n",
    "            return_token_type_ids=True\n",
    "        )\n",
    "\n",
    "        input_ids = tokens[\"input_ids\"]\n",
    "        token_type_ids = tokens[\"token_type_ids\"]\n",
    "        attention_mask = tokens[\"attention_mask\"]\n",
    "\n",
    "        with torch.no_grad():\n",
    "            outputs = model(\n",
    "                input_ids=input_ids,\n",
    "                token_type_ids=token_type_ids,\n",
    "                attention_mask=attention_mask\n",
    "            )\n",
    "            hidden_states = outputs.last_hidden_state.squeeze(0).cpu()\n",
    "\n",
    "        word_ids = tokens.word_ids(batch_index=0)\n",
    "        for token_idx, word_idx in enumerate(word_ids):\n",
    "            if word_idx is None:\n",
    "                continue\n",
    "            abs_word_idx = start + word_idx\n",
    "            if abs_word_idx >= total_words:\n",
    "                continue\n",
    "            if word_embeddings[abs_word_idx] is None:\n",
    "                word_embeddings[abs_word_idx] = []\n",
    "            word_embeddings[abs_word_idx].append(hidden_states[token_idx])\n",
    "\n",
    "    for i in range(total_words):\n",
    "        if word_embeddings[i] is None:\n",
    "            word_embeddings[i] = torch.zeros(hidden_size)\n",
    "        else:\n",
    "            word_embeddings[i] = torch.stack(word_embeddings[i]).mean(0)\n",
    "\n",
    "    return torch.stack(word_embeddings).numpy()"
   ]
  },
  {
   "cell_type": "code",
   "execution_count": null,
   "id": "c95d5eff-ec1a-44ff-836a-4400024560b1",
   "metadata": {},
   "outputs": [],
   "source": [
    "# Old version\n",
    "'''\n",
    "with open(raw_text_path, \"rb\") as f:\n",
    "    raw_texts = pickle.load(f)\n",
    "\n",
    "for story_id, seq in tqdm(raw_texts.items(), desc=\"Extracting BERT embeddings\"):\n",
    "    try:\n",
    "        emb = extract_bert_embeddings(seq, model, tokenizer)\n",
    "        X_interp = lanczosinterp2D(emb, seq.data_times, seq.tr_times)\n",
    "\n",
    "        # Trim start and end\n",
    "        TR = np.mean(np.diff(seq.tr_times))\n",
    "        n_skip_start = int(np.ceil(5 / TR))\n",
    "        n_skip_end = int(np.ceil(10 / TR))\n",
    "        X_interp = X_interp[n_skip_start:-n_skip_end]\n",
    "\n",
    "        # Create lag features\n",
    "        X_delayed = make_delayed(X_interp, [1, 2, 3, 4])\n",
    "\n",
    "        np.save(os.path.join(output_dir, f\"{story_id}.npy\"), X_delayed)\n",
    "    except Exception as e:\n",
    "        print(f\"⚠ Skipping {story_id}: {e}\")\n",
    "\n",
    "print(\"Done: Embeddings saved to\", output_dir)\n",
    "'''"
   ]
  },
  {
   "cell_type": "code",
   "execution_count": 5,
   "id": "6808bdab-9461-4fcf-8b22-4578fde79c54",
   "metadata": {},
   "outputs": [
    {
     "name": "stderr",
     "output_type": "stream",
     "text": [
      "Extracting BERT embeddings:  11%|█         | 12/109 [00:35<03:57,  2.45s/it]"
     ]
    },
    {
     "name": "stdout",
     "output_type": "stream",
     "text": [
      "⚠️ Skipping dialogue4: [Errno 2] No such file or directory: '../../../shared/data/subject2/dialogue4.npy'\n"
     ]
    },
    {
     "name": "stderr",
     "output_type": "stream",
     "text": [
      "Extracting BERT embeddings:  27%|██▋       | 29/109 [01:35<04:09,  3.12s/it]"
     ]
    },
    {
     "name": "stdout",
     "output_type": "stream",
     "text": [
      "⚠️ Skipping myfirstdaywiththeyankees: [Errno 2] No such file or directory: '../../../shared/data/subject2/myfirstdaywiththeyankees.npy'\n"
     ]
    },
    {
     "name": "stderr",
     "output_type": "stream",
     "text": [
      "Extracting BERT embeddings:  46%|████▌     | 50/109 [02:50<03:14,  3.30s/it]"
     ]
    },
    {
     "name": "stdout",
     "output_type": "stream",
     "text": [
      "⚠️ Skipping dialogue2: [Errno 2] No such file or directory: '../../../shared/data/subject2/dialogue2.npy'\n"
     ]
    },
    {
     "name": "stderr",
     "output_type": "stream",
     "text": [
      "Extracting BERT embeddings:  60%|█████▉    | 65/109 [03:38<01:45,  2.39s/it]"
     ]
    },
    {
     "name": "stdout",
     "output_type": "stream",
     "text": [
      "⚠️ Skipping dialogue1: [Errno 2] No such file or directory: '../../../shared/data/subject2/dialogue1.npy'\n"
     ]
    },
    {
     "name": "stderr",
     "output_type": "stream",
     "text": [
      "Extracting BERT embeddings:  62%|██████▏   | 68/109 [03:44<01:25,  2.08s/it]"
     ]
    },
    {
     "name": "stdout",
     "output_type": "stream",
     "text": [
      "⚠️ Skipping dialogue5: [Errno 2] No such file or directory: '../../../shared/data/subject2/dialogue5.npy'\n"
     ]
    },
    {
     "name": "stderr",
     "output_type": "stream",
     "text": [
      "Extracting BERT embeddings:  67%|██████▋   | 73/109 [03:57<01:29,  2.49s/it]"
     ]
    },
    {
     "name": "stdout",
     "output_type": "stream",
     "text": [
      "⚠️ Skipping onlyonewaytofindout: [Errno 2] No such file or directory: '../../../shared/data/subject2/onlyonewaytofindout.npy'\n"
     ]
    },
    {
     "name": "stderr",
     "output_type": "stream",
     "text": [
      "Extracting BERT embeddings:  94%|█████████▎| 102/109 [05:45<00:23,  3.30s/it]"
     ]
    },
    {
     "name": "stdout",
     "output_type": "stream",
     "text": [
      "⚠️ Skipping dialogue3: [Errno 2] No such file or directory: '../../../shared/data/subject2/dialogue3.npy'\n"
     ]
    },
    {
     "name": "stderr",
     "output_type": "stream",
     "text": [
      "Extracting BERT embeddings:  95%|█████████▌| 104/109 [05:50<00:13,  2.72s/it]"
     ]
    },
    {
     "name": "stdout",
     "output_type": "stream",
     "text": [
      "⚠️ Skipping dialogue6: [Errno 2] No such file or directory: '../../../shared/data/subject2/dialogue6.npy'\n"
     ]
    },
    {
     "name": "stderr",
     "output_type": "stream",
     "text": [
      "Extracting BERT embeddings: 100%|██████████| 109/109 [06:13<00:00,  3.42s/it]"
     ]
    },
    {
     "name": "stdout",
     "output_type": "stream",
     "text": [
      "Done: Embeddings saved to ../results/embeddings/bert_XY\n"
     ]
    },
    {
     "name": "stderr",
     "output_type": "stream",
     "text": [
      "\n"
     ]
    }
   ],
   "source": [
    "with open(raw_text_path, \"rb\") as f:\n",
    "    raw_texts = pickle.load(f)\n",
    "\n",
    "for story_id, seq in tqdm(raw_texts.items(), desc=\"Extracting BERT embeddings\"):\n",
    "    try:\n",
    "        emb = extract_bert_embeddings(seq, model, tokenizer)\n",
    "        X_interp = lanczosinterp2D(emb, seq.data_times, seq.tr_times)\n",
    "\n",
    "        # Trim start and end\n",
    "        TR = np.mean(np.diff(seq.tr_times))\n",
    "        n_skip_start = int(np.ceil(5 / TR))\n",
    "        n_skip_end = int(np.ceil(10 / TR))\n",
    "        X_interp = X_interp[n_skip_start:-n_skip_end]\n",
    "\n",
    "        # Create lag features\n",
    "        X_delayed = make_delayed(X_interp, [1, 2, 3, 4])\n",
    "\n",
    "        y_path = os.path.join(\"../../../shared/data/subject2\", f\"{story_id}.npy\")\n",
    "        Y = np.load(y_path)\n",
    "        Y = Y[n_skip_start:-n_skip_end]\n",
    "        Y_delayed = make_delayed(Y, [1, 2, 3, 4])\n",
    "\n",
    "        np.save(os.path.join(output_dir, f\"{story_id}_X.npy\"), X_delayed)\n",
    "        np.save(os.path.join(output_dir, f\"{story_id}_Y.npy\"), Y_delayed)\n",
    "\n",
    "    except Exception as e:\n",
    "        print(f\"⚠️ Skipping {story_id}: {e}\")\n",
    "\n",
    "print(\"Done: Embeddings saved to\", output_dir)"
   ]
  },
  {
   "cell_type": "code",
   "execution_count": null,
   "id": "ef11f3ef-1228-4c35-8a3b-7b4453e4a662",
   "metadata": {},
   "outputs": [],
   "source": []
  }
 ],
 "metadata": {
  "kernelspec": {
   "display_name": "Python 3 (ipykernel)",
   "language": "python",
   "name": "python3"
  },
  "language_info": {
   "codemirror_mode": {
    "name": "ipython",
    "version": 3
   },
   "file_extension": ".py",
   "mimetype": "text/x-python",
   "name": "python",
   "nbconvert_exporter": "python",
   "pygments_lexer": "ipython3",
   "version": "3.12.7"
  }
 },
 "nbformat": 4,
 "nbformat_minor": 5
}
