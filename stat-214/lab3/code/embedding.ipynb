{
 "cells": [
  {
   "cell_type": "code",
   "execution_count": 1,
   "id": "13a1196b",
   "metadata": {},
   "outputs": [],
   "source": [
    "import os\n",
    "import pickle\n",
    "import numpy as np\n",
    "import torch\n",
    "from tqdm import tqdm\n",
    "from transformers import BertTokenizerFast, BertModel\n",
    "from preprocessing import lanczosinterp2D, make_delayed"
   ]
  },
  {
   "cell_type": "code",
   "execution_count": 2,
   "id": "9bd9e96a",
   "metadata": {},
   "outputs": [
    {
     "data": {
      "text/plain": [
       "BertModel(\n",
       "  (embeddings): BertEmbeddings(\n",
       "    (word_embeddings): Embedding(30522, 768, padding_idx=0)\n",
       "    (position_embeddings): Embedding(512, 768)\n",
       "    (token_type_embeddings): Embedding(2, 768)\n",
       "    (LayerNorm): LayerNorm((768,), eps=1e-12, elementwise_affine=True)\n",
       "    (dropout): Dropout(p=0.1, inplace=False)\n",
       "  )\n",
       "  (encoder): BertEncoder(\n",
       "    (layer): ModuleList(\n",
       "      (0-11): 12 x BertLayer(\n",
       "        (attention): BertAttention(\n",
       "          (self): BertSdpaSelfAttention(\n",
       "            (query): Linear(in_features=768, out_features=768, bias=True)\n",
       "            (key): Linear(in_features=768, out_features=768, bias=True)\n",
       "            (value): Linear(in_features=768, out_features=768, bias=True)\n",
       "            (dropout): Dropout(p=0.1, inplace=False)\n",
       "          )\n",
       "          (output): BertSelfOutput(\n",
       "            (dense): Linear(in_features=768, out_features=768, bias=True)\n",
       "            (LayerNorm): LayerNorm((768,), eps=1e-12, elementwise_affine=True)\n",
       "            (dropout): Dropout(p=0.1, inplace=False)\n",
       "          )\n",
       "        )\n",
       "        (intermediate): BertIntermediate(\n",
       "          (dense): Linear(in_features=768, out_features=3072, bias=True)\n",
       "          (intermediate_act_fn): GELUActivation()\n",
       "        )\n",
       "        (output): BertOutput(\n",
       "          (dense): Linear(in_features=3072, out_features=768, bias=True)\n",
       "          (LayerNorm): LayerNorm((768,), eps=1e-12, elementwise_affine=True)\n",
       "          (dropout): Dropout(p=0.1, inplace=False)\n",
       "        )\n",
       "      )\n",
       "    )\n",
       "  )\n",
       "  (pooler): BertPooler(\n",
       "    (dense): Linear(in_features=768, out_features=768, bias=True)\n",
       "    (activation): Tanh()\n",
       "  )\n",
       ")"
      ]
     },
     "execution_count": 2,
     "metadata": {},
     "output_type": "execute_result"
    }
   ],
   "source": [
    "raw_text_path = \"../../../shared/data/raw_text.pkl\"\n",
    "output_dir = \"../results/embeddings/bert_XY\"\n",
    "os.makedirs(output_dir, exist_ok=True)\n",
    "\n",
    "# Load tokenizer and model\n",
    "tokenizer = BertTokenizerFast.from_pretrained(\"bert-base-uncased\")\n",
    "model = BertModel.from_pretrained(\"bert-base-uncased\")\n",
    "model.eval()"
   ]
  },
  {
   "cell_type": "code",
   "execution_count": 3,
   "id": "719690fa",
   "metadata": {},
   "outputs": [],
   "source": [
    "# ## Embedding extraction function\n",
    "\n",
    "def extract_bert_embeddings(seq, model, tokenizer, chunk_size=128, stride=64, hidden_size=768):\n",
    "    device = next(model.parameters()).device\n",
    "    text_words = seq.data\n",
    "    total_words = len(text_words)\n",
    "    word_embeddings = [None] * total_words\n",
    "\n",
    "    for start in range(0, total_words, stride):\n",
    "        chunk_words = text_words[start:start + chunk_size]\n",
    "        tokens = tokenizer(\n",
    "            chunk_words,\n",
    "            is_split_into_words=True,\n",
    "            return_tensors=\"pt\",\n",
    "            padding=\"max_length\",\n",
    "            truncation=True,\n",
    "            max_length=chunk_size,\n",
    "            return_attention_mask=True,\n",
    "            return_token_type_ids=True\n",
    "        )\n",
    "\n",
    "        input_ids = tokens[\"input_ids\"]\n",
    "        token_type_ids = tokens[\"token_type_ids\"]\n",
    "        attention_mask = tokens[\"attention_mask\"]\n",
    "\n",
    "        with torch.no_grad():\n",
    "            outputs = model(\n",
    "                input_ids=input_ids,\n",
    "                token_type_ids=token_type_ids,\n",
    "                attention_mask=attention_mask\n",
    "            )\n",
    "            hidden_states = outputs.last_hidden_state.squeeze(0).cpu()\n",
    "\n",
    "        word_ids = tokens.word_ids(batch_index=0)\n",
    "        for token_idx, word_idx in enumerate(word_ids):\n",
    "            if word_idx is None:\n",
    "                continue\n",
    "            abs_word_idx = start + word_idx\n",
    "            if abs_word_idx >= total_words:\n",
    "                continue\n",
    "            if word_embeddings[abs_word_idx] is None:\n",
    "                word_embeddings[abs_word_idx] = []\n",
    "            word_embeddings[abs_word_idx].append(hidden_states[token_idx])\n",
    "\n",
    "    for i in range(total_words):\n",
    "        if word_embeddings[i] is None:\n",
    "            word_embeddings[i] = torch.zeros(hidden_size)\n",
    "        else:\n",
    "            word_embeddings[i] = torch.stack(word_embeddings[i]).mean(0)\n",
    "\n",
    "    return torch.stack(word_embeddings).numpy()"
   ]
  },
  {
   "cell_type": "code",
   "execution_count": null,
   "id": "c95d5eff-ec1a-44ff-836a-4400024560b1",
   "metadata": {},
   "outputs": [],
   "source": [
    "# Old version\n",
    "'''\n",
    "with open(raw_text_path, \"rb\") as f:\n",
    "    raw_texts = pickle.load(f)\n",
    "\n",
    "for story_id, seq in tqdm(raw_texts.items(), desc=\"Extracting BERT embeddings\"):\n",
    "    try:\n",
    "        emb = extract_bert_embeddings(seq, model, tokenizer)\n",
    "        X_interp = lanczosinterp2D(emb, seq.data_times, seq.tr_times)\n",
    "\n",
    "        # Trim start and end\n",
    "        TR = np.mean(np.diff(seq.tr_times))\n",
    "        n_skip_start = int(np.ceil(5 / TR))\n",
    "        n_skip_end = int(np.ceil(10 / TR))\n",
    "        X_interp = X_interp[n_skip_start:-n_skip_end]\n",
    "\n",
    "        # Create lag features\n",
    "        X_delayed = make_delayed(X_interp, [1, 2, 3, 4])\n",
    "\n",
    "        np.save(os.path.join(output_dir, f\"{story_id}.npy\"), X_delayed)\n",
    "    except Exception as e:\n",
    "        print(f\"⚠ Skipping {story_id}: {e}\")\n",
    "\n",
    "print(\"Done: Embeddings saved to\", output_dir)\n",
    "'''"
   ]
  },
  {
   "cell_type": "code",
   "execution_count": 4,
   "id": "6808bdab-9461-4fcf-8b22-4578fde79c54",
   "metadata": {},
   "outputs": [
    {
     "name": "stderr",
     "output_type": "stream",
     "text": [
      "Extracting BERT embeddings:  11%|█         | 12/109 [00:22<02:37,  1.62s/it]"
     ]
    },
    {
     "name": "stdout",
     "output_type": "stream",
     "text": [
      "⚠️ Skipping dialogue4: [Errno 2] No such file or directory: '../../../shared/data/subject2/dialogue4.npy'\n"
     ]
    },
    {
     "name": "stderr",
     "output_type": "stream",
     "text": [
      "Extracting BERT embeddings:  27%|██▋       | 29/109 [00:59<02:37,  1.97s/it]"
     ]
    },
    {
     "name": "stdout",
     "output_type": "stream",
     "text": [
      "⚠️ Skipping myfirstdaywiththeyankees: [Errno 2] No such file or directory: '../../../shared/data/subject2/myfirstdaywiththeyankees.npy'\n"
     ]
    },
    {
     "name": "stderr",
     "output_type": "stream",
     "text": [
      "Extracting BERT embeddings:  46%|████▌     | 50/109 [01:44<01:34,  1.60s/it]"
     ]
    },
    {
     "name": "stdout",
     "output_type": "stream",
     "text": [
      "⚠️ Skipping dialogue2: [Errno 2] No such file or directory: '../../../shared/data/subject2/dialogue2.npy'\n"
     ]
    },
    {
     "name": "stderr",
     "output_type": "stream",
     "text": [
      "Extracting BERT embeddings:  60%|█████▉    | 65/109 [02:50<06:06,  8.32s/it]"
     ]
    },
    {
     "name": "stdout",
     "output_type": "stream",
     "text": [
      "⚠️ Skipping dialogue1: [Errno 2] No such file or directory: '../../../shared/data/subject2/dialogue1.npy'\n"
     ]
    },
    {
     "name": "stderr",
     "output_type": "stream",
     "text": [
      "Extracting BERT embeddings:  62%|██████▏   | 68/109 [03:34<06:31,  9.56s/it]"
     ]
    },
    {
     "name": "stdout",
     "output_type": "stream",
     "text": [
      "⚠️ Skipping dialogue5: [Errno 2] No such file or directory: '../../../shared/data/subject2/dialogue5.npy'\n"
     ]
    },
    {
     "name": "stderr",
     "output_type": "stream",
     "text": [
      "Extracting BERT embeddings:  67%|██████▋   | 73/109 [04:34<04:48,  8.01s/it]"
     ]
    },
    {
     "name": "stdout",
     "output_type": "stream",
     "text": [
      "⚠️ Skipping onlyonewaytofindout: [Errno 2] No such file or directory: '../../../shared/data/subject2/onlyonewaytofindout.npy'\n"
     ]
    },
    {
     "name": "stderr",
     "output_type": "stream",
     "text": [
      "Extracting BERT embeddings:  94%|█████████▎| 102/109 [11:41<01:32, 13.17s/it]"
     ]
    },
    {
     "name": "stdout",
     "output_type": "stream",
     "text": [
      "⚠️ Skipping dialogue3: [Errno 2] No such file or directory: '../../../shared/data/subject2/dialogue3.npy'\n"
     ]
    },
    {
     "name": "stderr",
     "output_type": "stream",
     "text": [
      "Extracting BERT embeddings:  95%|█████████▌| 104/109 [11:44<00:36,  7.25s/it]"
     ]
    },
    {
     "name": "stdout",
     "output_type": "stream",
     "text": [
      "⚠️ Skipping dialogue6: [Errno 2] No such file or directory: '../../../shared/data/subject2/dialogue6.npy'\n"
     ]
    },
    {
     "name": "stderr",
     "output_type": "stream",
     "text": [
      "Extracting BERT embeddings: 100%|██████████| 109/109 [12:38<00:00,  6.96s/it]"
     ]
    },
    {
     "name": "stdout",
     "output_type": "stream",
     "text": [
      "Done: Embeddings saved to ../results/embeddings/bert_XY\n"
     ]
    },
    {
     "name": "stderr",
     "output_type": "stream",
     "text": [
      "\n"
     ]
    }
   ],
   "source": [
    "with open(raw_text_path, \"rb\") as f:\n",
    "    raw_texts = pickle.load(f)\n",
    "\n",
    "for story_id, seq in tqdm(raw_texts.items(), desc=\"Extracting BERT embeddings\"):\n",
    "    try:\n",
    "        emb = extract_bert_embeddings(seq, model, tokenizer)\n",
    "        X_interp = lanczosinterp2D(emb, seq.data_times, seq.tr_times)\n",
    "\n",
    "        # Trim start and end\n",
    "        TR = np.mean(np.diff(seq.tr_times))\n",
    "        n_skip_start = int(np.ceil(5 / TR))\n",
    "        n_skip_end = int(np.ceil(10 / TR))\n",
    "        X_interp = X_interp[n_skip_start:-n_skip_end]\n",
    "\n",
    "        # Create lag features\n",
    "        X_delayed = make_delayed(X_interp, [1, 2, 3, 4])\n",
    "\n",
    "        y_path = os.path.join(\"../../../shared/data/subject2\", f\"{story_id}.npy\")\n",
    "        Y = np.load(y_path)\n",
    "        Y = Y[n_skip_start:-n_skip_end]\n",
    "        Y_delayed = make_delayed(Y, [1, 2, 3, 4])\n",
    "\n",
    "        np.save(os.path.join(output_dir, f\"{story_id}_X.npy\"), X_delayed)\n",
    "        np.save(os.path.join(output_dir, f\"{story_id}_Y.npy\"), Y_delayed)\n",
    "\n",
    "    except Exception as e:\n",
    "        print(f\"⚠️ Skipping {story_id}: {e}\")\n",
    "\n",
    "print(\"Done: Embeddings saved to\", output_dir)"
   ]
  },
  {
   "cell_type": "code",
   "execution_count": null,
   "id": "ef11f3ef-1228-4c35-8a3b-7b4453e4a662",
   "metadata": {},
   "outputs": [],
   "source": []
  }
 ],
 "metadata": {
  "kernelspec": {
   "display_name": "Python 3 (ipykernel)",
   "language": "python",
   "name": "python3"
  },
  "language_info": {
   "codemirror_mode": {
    "name": "ipython",
    "version": 3
   },
   "file_extension": ".py",
   "mimetype": "text/x-python",
   "name": "python",
   "nbconvert_exporter": "python",
   "pygments_lexer": "ipython3",
   "version": "3.12.7"
  }
 },
 "nbformat": 4,
 "nbformat_minor": 5
}
